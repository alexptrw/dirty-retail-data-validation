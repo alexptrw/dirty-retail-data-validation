{
 "cells": [
  {
   "cell_type": "code",
   "execution_count": 1,
   "id": "209925ef-5035-4cc4-be7d-51a83ed56c19",
   "metadata": {},
   "outputs": [],
   "source": [
    "import pandas as pd"
   ]
  },
  {
   "cell_type": "code",
   "execution_count": null,
   "id": "7dd5cbab-c3c2-4ec3-bee5-173c8c91bf02",
   "metadata": {},
   "outputs": [],
   "source": [
    "df = pd.read_csv(r\"../data/raw/retail_store_sales.csv\")\n",
    "df.head()"
   ]
  }
 ],
 "metadata": {
  "kernelspec": {
   "display_name": "Python 3 (ipykernel)",
   "language": "python",
   "name": "python3"
  },
  "language_info": {
   "codemirror_mode": {
    "name": "ipython",
    "version": 3
   },
   "file_extension": ".py",
   "mimetype": "text/x-python",
   "name": "python",
   "nbconvert_exporter": "python",
   "pygments_lexer": "ipython3",
   "version": "3.11.9"
  }
 },
 "nbformat": 4,
 "nbformat_minor": 5
}
